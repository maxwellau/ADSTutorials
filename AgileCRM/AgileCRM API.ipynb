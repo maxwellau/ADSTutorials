{
 "cells": [
  {
   "cell_type": "code",
   "execution_count": 1,
   "id": "0caf49c6",
   "metadata": {},
   "outputs": [],
   "source": [
    "#import dependencies\n",
    "import pandas as pd\n",
    "import requests\n",
    "import json"
   ]
  },
  {
   "cell_type": "code",
   "execution_count": 84,
   "id": "0f34ab41",
   "metadata": {},
   "outputs": [],
   "source": [
    "#create CRM Class\n",
    "class CRM:\n",
    "    def __init__(self, apikey, email, domain):\n",
    "        self.apikey = apikey\n",
    "        self.email = email\n",
    "        self.domain = domain\n",
    "        \n",
    "    def agileCRM(self, nextURL,method,data,contenttype):\n",
    "        BASE_URL = \"https://\" + self.domain + \".agilecrm.com/dev/api/\"\n",
    "        url = BASE_URL + nextURL\n",
    "        headers = {\n",
    "            'Accept': 'application/json',\n",
    "            'content-type': contenttype,\n",
    "            }\n",
    "        \n",
    "        if ( method  == \"GET\" ) :\n",
    "            response = requests.get(\n",
    "            url,\n",
    "            headers=headers,\n",
    "            auth=(self.email, self.apikey)\n",
    "            )\n",
    "            return response\n",
    "\n",
    "        if ( method  == \"POST\" ) :\n",
    "            response = requests.post(\n",
    "            url,\n",
    "            data=json.dumps(data),\n",
    "            headers=headers,\n",
    "            auth=(self.email, self.apikey)\n",
    "            )\n",
    "            return response\n",
    "\n",
    "        if ( method  == \"PUT\" ) :\n",
    "            response = requests.put(\n",
    "            url,\n",
    "            data=json.dumps(data),\n",
    "            headers=headers,\n",
    "            auth=(self.email, self.apikey)\n",
    "            )\n",
    "            return response\n",
    "\n",
    "        if ( method  == \"DELETE\" ) :\n",
    "            response = requests.delete(\n",
    "            url,\n",
    "            headers=headers,\n",
    "            auth=(self.email, self.apikey)\n",
    "            )\n",
    "            return response\n",
    "\n",
    "        if ( method  == \"POSTFORM\" ) :\n",
    "\n",
    "            response = requests.post(\n",
    "            url,\n",
    "            data=data,\n",
    "            headers=headers,\n",
    "            auth=(self.email, self.apikey)\n",
    "            )\n",
    "            return response\n",
    "        return \"Wrong method provided\"\n",
    "    \n",
    "    def getIdFromEmail(self, email):\n",
    "        assert email == str(email), 'email has to be a String'\n",
    "        try:\n",
    "            resp = self.agileCRM(f\"contacts/search/email/{email}\",\"GET\",None,\"application/json\")\n",
    "            return str(resp.json()['id'])\n",
    "        except ValueError:\n",
    "            print(\"check if your email is correct\")\n",
    "    \n",
    "    def getContactFromId(self, userid):\n",
    "        assert userid == str(userid), 'userid has to be a String'\n",
    "        return self.agileCRM(f\"contacts/{userid}\",\"GET\",None,\"application/json\")\n",
    "    \n",
    "    def searchCompanyIdFromName(self, company):\n",
    "        assert company == str(company), 'company has to be a String'\n",
    "        return self.agileCRM(f\"search?q={company}&page_size=10&type='COMPANY'\",\"GET\",None,\"application/json\")\n",
    "    \n",
    "    def makeDeal(self, dealName, expectedValue, probability, milestone, contactID):\n",
    "        assert dealName == str(dealName), 'dealName has to be a String'\n",
    "        assert probability == str(probability), 'probability has to be a String'\n",
    "        assert milestone == str(milestone), 'milestone has to be a String'\n",
    "        assert type(contactID) == list, 'contactID has to be a list of Strings'\n",
    "        deal_data = {\n",
    "        \"name\": dealName,\n",
    "        \"expected_value\": expectedValue,\n",
    "        \"probability\": probability,\n",
    "        \"close_date\": 0,\n",
    "        \"milestone\": milestone,\n",
    "        \"contact_ids\": contactID,\n",
    "         }\n",
    "\n",
    "        resp = self.agileCRM(\"opportunity\",\"POST\",deal_data,\"application/json\")\n",
    "        return resp\n",
    "    \n",
    "    def makeNote(self, subject, description, contactID):\n",
    "        assert subject == str(subject), 'subject has to be a String'\n",
    "        assert description == str(description), 'description has to be a String'\n",
    "        assert type(contactID) == list, 'contactID has to be a list of Strings'\n",
    "        note_data = {\n",
    "        \"subject\": subject,\n",
    "        \"description\": description,\n",
    "        \"contact_ids\": contactID\n",
    "        }\n",
    "        return self.agileCRM(\"notes\",\"POST\",note_data,\"application/json\")\n",
    "    \n",
    "    def createContact(self, firstName, lastName, company, title, email, address, customField, customContent):\n",
    "        assert firstName == str(firstName), 'firstName has to be a String'\n",
    "        assert lastName == str(lastName), 'probability has to be a String'\n",
    "        assert company == str(company), 'company has to be a String'\n",
    "        assert title == str(title), 'title has to be a String'\n",
    "        assert email == str(email), 'email has to be a String'\n",
    "        assert address == str(address), 'address has to be a String'\n",
    "        assert customField == str(customField), 'customField has to be a String'\n",
    "        assert customContent == str(customContent), 'customContent has to be a String'\n",
    "        contact_data = {\n",
    "        \"star_value\": \"0\",\n",
    "        \"lead_score\": \"\",\n",
    "        \"tags\": [],\n",
    "        \"properties\": [\n",
    "            {\n",
    "                \"type\": \"SYSTEM\",\n",
    "                \"name\": \"first_name\",\n",
    "                \"value\": firstName + \" \"\n",
    "            },\n",
    "            {\n",
    "                \"type\": \"SYSTEM\",\n",
    "                \"name\": \"last_name\",\n",
    "                \"value\": lastName\n",
    "            },\n",
    "            {\n",
    "                \"type\": \"SYSTEM\",\n",
    "                \"name\": \"company\",\n",
    "                \"value\": company\n",
    "            },\n",
    "            {\n",
    "                \"type\": \"SYSTEM\",\n",
    "                \"name\": \"title\",\n",
    "                \"value\": title\n",
    "            },\n",
    "            {\n",
    "                \"type\": \"SYSTEM\",\n",
    "                \"name\": \"email\",\n",
    "                \"subtype\": \"work\",\n",
    "                \"value\": email\n",
    "            },\n",
    "            {\n",
    "                \"type\": \"SYSTEM\",\n",
    "                \"name\": \"address\",\n",
    "                \"value\": address\n",
    "            },\n",
    "            {\n",
    "                \"type\": \"CUSTOM\",\n",
    "                \"name\": customField,\n",
    "                \"value\": customContent\n",
    "            }\n",
    "            ]\n",
    "            }\n",
    "        resp = self.agileCRM(\"contacts\",\"POST\",contact_data,\"application/json\")\n",
    "        return resp"
   ]
  },
  {
   "cell_type": "code",
   "execution_count": 85,
   "id": "cf854743",
   "metadata": {},
   "outputs": [],
   "source": [
    "APIKEY = \"oct6jkr42vms6c5ln275fjnkfc\"   # Your API KEY\n",
    "EMAIL = \"maxwellau16.19@ichat.sp.edu.sg\"  # Your API EMAIL\n",
    "DOMAIN = \"poop123\"  # Your DOMAIN\n",
    "\n",
    "crmObj = CRM(APIKEY, EMAIL, DOMAIN)"
   ]
  },
  {
   "cell_type": "code",
   "execution_count": 57,
   "id": "fb9d28ea",
   "metadata": {},
   "outputs": [
    {
     "data": {
      "text/plain": [
       "6517302391013376"
      ]
     },
     "execution_count": 57,
     "metadata": {},
     "output_type": "execute_result"
    }
   ],
   "source": [
    "crmObj.getIdFromEmail(\"osososososo@gmail.com\")"
   ]
  },
  {
   "cell_type": "code",
   "execution_count": 54,
   "id": "94861acc",
   "metadata": {},
   "outputs": [
    {
     "data": {
      "text/plain": [
       "{'id': 6517302391013376,\n",
       " 'type': 'PERSON',\n",
       " 'created_time': 1638944553,\n",
       " 'updated_time': 0,\n",
       " 'last_contacted': 0,\n",
       " 'last_emailed': 0,\n",
       " 'last_campaign_emaild': 0,\n",
       " 'last_called': 0,\n",
       " 'viewed_time': 0,\n",
       " 'viewed': {'viewed_time': 1639030374077, 'viewer_id': 5170935437524992},\n",
       " 'star_value': 0,\n",
       " 'klout_score': '',\n",
       " 'tags': [],\n",
       " 'tagsWithTime': [],\n",
       " 'properties': [{'type': 'SYSTEM',\n",
       "   'name': 'first_name',\n",
       "   'value': 'boogieman '},\n",
       "  {'type': 'SYSTEM', 'name': 'last_name', 'value': 'lim'},\n",
       "  {'type': 'SYSTEM', 'name': 'company', 'value': 'urmom'},\n",
       "  {'type': 'SYSTEM', 'name': 'title', 'value': 'ceo'},\n",
       "  {'type': 'SYSTEM',\n",
       "   'name': 'email',\n",
       "   'subtype': 'work',\n",
       "   'value': 'osososososo@gmail.com'},\n",
       "  {'type': 'SYSTEM', 'name': 'address', 'value': '19 Mike Rotch Street'},\n",
       "  {'type': 'CUSTOM', 'name': '', 'value': ''}],\n",
       " 'campaignStatus': [],\n",
       " 'entity_type': 'contact_entity',\n",
       " 'source': 'api',\n",
       " 'contact_company_id': '6053317443125248',\n",
       " 'unsubscribeStatus': [],\n",
       " 'emailBounceStatus': [],\n",
       " 'formId': 0,\n",
       " 'browserId': [],\n",
       " 'lead_source_id': 0,\n",
       " 'lead_status_id': 0,\n",
       " 'is_lead_converted': False,\n",
       " 'lead_converted_time': 0,\n",
       " 'is_duplicate_existed': False,\n",
       " 'trashed_time': 0,\n",
       " 'restored_time': 0,\n",
       " 'is_duplicate_verification_failed': False,\n",
       " 'is_client_import': False,\n",
       " 'concurrent_save_allowed': True,\n",
       " 'owner': {'id': 5170935437524992,\n",
       "  'domain': 'poop123',\n",
       "  'email': 'maxwellau16.19@ichat.sp.edu.sg',\n",
       "  'phone': '',\n",
       "  'name': 'Maxwell Au',\n",
       "  'pic': 'https://d1gwclp1pmzk26.cloudfront.net/img/gravatar/48.png',\n",
       "  'schedule_id': 'Maxwell_Au',\n",
       "  'calendar_url': 'https://poop123.agilecrm.com/calendar/Maxwell_Au',\n",
       "  'calendarURL': 'https://poop123.agilecrm.com/calendar/Maxwell_Au'}}"
      ]
     },
     "execution_count": 54,
     "metadata": {},
     "output_type": "execute_result"
    }
   ],
   "source": [
    "crmObj.getContactFromId(\"6517302391013376\").json()"
   ]
  },
  {
   "cell_type": "code",
   "execution_count": 60,
   "id": "97b81285",
   "metadata": {},
   "outputs": [
    {
     "data": {
      "text/plain": [
       "[{'cursor': 'true:CskECsICCpIC9ykjvXD_____jIGemJaTmtKcjZLSnJOQipvej5CQj87NzP8AAP90baCgmYuMoKD_AAD_XZ6Pj5qRmJaRmv8AAP9zdG2WkZuah_8AAP9dnJCRi56ci4z_AAD_c3Rtm5CcoJab_wAA_13Kys3Gy8_PycfGzMnPx8bJ_wAA_3N_ysrNxsvPz8nHxszJz8fGyf8AAP__AP7__oyBnpiWk5rSnI2S0pyTkIqb3o-QkI_Ozcz_AHRtoKCZi4ygoP8AXZ6Pj5qRmJaRmv8Ac3RtlpGbmof_AF2ckJGLnpyLjP8Ac3Rtm5CcoJab_wBdysrNxsvPz8nHxszJz8fGyf8Ac3_Kys3Gy8_PycfGzMnPx8bJ_wD__hABIQTdBJAdPBsZOQAAAACPQtzWSAFQAFoLCZIg0E4PzdPBEANghZry7wRoARINRG9jdW1lbnRJbmRleBrQAShBTkQgKElTICJjdXN0b21lcl9uYW1lIiAiYXBwZW5naW5lIikgKElTICJncm91cF9uYW1lIiAic35hZ2lsZS1jcm0tY2xvdWQiKSAoSVMgIm5hbWVzcGFjZSIgInBvb3AxMjMiKSAoSVMgImluZGV4X25hbWUiICJjb250YWN0cyIpIChBTkQgKFFUICJzdGVhZHkuaW5jIiAicnRleHRfc2VhcmNoX3Rva2VucyIpIChRVCAiJ0NPTVBBTlknIiAicnRleHRfdHlwZSIpKSk6GQoMKE4gb3JkZXJfaWQpEAEZAAAAAAAA8P9KBQgAQOgH',\n",
       "  'count': 1,\n",
       "  'id': 5529400689360896,\n",
       "  'type': 'COMPANY',\n",
       "  'created_time': 1638944056,\n",
       "  'updated_time': 0,\n",
       "  'last_contacted': 0,\n",
       "  'last_emailed': 0,\n",
       "  'last_campaign_emaild': 0,\n",
       "  'last_called': 0,\n",
       "  'viewed_time': 0,\n",
       "  'viewed': {'viewed_time': 1639030613894, 'viewer_id': 5170935437524992},\n",
       "  'star_value': 0,\n",
       "  'lead_score': 0,\n",
       "  'klout_score': '',\n",
       "  'tags': [],\n",
       "  'tagsWithTime': [],\n",
       "  'properties': [{'type': 'SYSTEM', 'name': 'name', 'value': 'steady.inc'},\n",
       "   {'type': 'SYSTEM', 'name': 'name_lower', 'value': 'steady.inc'}],\n",
       "  'campaignStatus': [],\n",
       "  'entity_type': 'company_entity',\n",
       "  'unsubscribeStatus': [],\n",
       "  'emailBounceStatus': [],\n",
       "  'formId': 0,\n",
       "  'browserId': [],\n",
       "  'lead_source_id': 0,\n",
       "  'lead_status_id': 0,\n",
       "  'is_lead_converted': False,\n",
       "  'lead_converted_time': 0,\n",
       "  'is_duplicate_existed': False,\n",
       "  'trashed_time': 0,\n",
       "  'restored_time': 0,\n",
       "  'is_duplicate_verification_failed': False,\n",
       "  'is_client_import': False,\n",
       "  'concurrent_save_allowed': True,\n",
       "  'owner': {'id': 5170935437524992,\n",
       "   'domain': 'poop123',\n",
       "   'email': 'maxwellau16.19@ichat.sp.edu.sg',\n",
       "   'phone': '',\n",
       "   'name': 'Maxwell Au',\n",
       "   'pic': 'https://d1gwclp1pmzk26.cloudfront.net/img/gravatar/48.png',\n",
       "   'schedule_id': 'Maxwell_Au',\n",
       "   'calendar_url': 'https://poop123.agilecrm.com/calendar/Maxwell_Au',\n",
       "   'calendarURL': 'https://poop123.agilecrm.com/calendar/Maxwell_Au'}}]"
      ]
     },
     "execution_count": 60,
     "metadata": {},
     "output_type": "execute_result"
    }
   ],
   "source": [
    "crmObj.searchCompanyIdFromName(\"steady.inc\").json()"
   ]
  },
  {
   "cell_type": "code",
   "execution_count": 62,
   "id": "6f31f72b",
   "metadata": {},
   "outputs": [
    {
     "data": {
      "text/plain": [
       "<Response [200]>"
      ]
     },
     "execution_count": 62,
     "metadata": {},
     "output_type": "execute_result"
    }
   ],
   "source": [
    "crmObj.makeDeal(dealName = \"poopytime\", expectedValue = \"6999\", probability = \"99\", milestone = \"meh\", contactID = [\"5529400689360896\"])"
   ]
  },
  {
   "cell_type": "code",
   "execution_count": 67,
   "id": "1a9fe619",
   "metadata": {},
   "outputs": [
    {
     "data": {
      "text/plain": [
       "4568903915732992"
      ]
     },
     "execution_count": 67,
     "metadata": {},
     "output_type": "execute_result"
    }
   ],
   "source": [
    "testid = crmObj.getIdFromEmail(\"akrambakram@yabba.com\")\n",
    "testid"
   ]
  },
  {
   "cell_type": "code",
   "execution_count": 68,
   "id": "9a705848",
   "metadata": {},
   "outputs": [],
   "source": [
    "emailcnfm = crmObj.getContactFromId(str(testid)).json()"
   ]
  },
  {
   "cell_type": "code",
   "execution_count": 69,
   "id": "47cdd1bf",
   "metadata": {},
   "outputs": [
    {
     "data": {
      "text/plain": [
       "{'id': 4568903915732992,\n",
       " 'type': 'PERSON',\n",
       " 'created_time': 1638944056,\n",
       " 'updated_time': 0,\n",
       " 'last_contacted': 0,\n",
       " 'last_emailed': 0,\n",
       " 'last_campaign_emaild': 0,\n",
       " 'last_called': 0,\n",
       " 'viewed_time': 0,\n",
       " 'viewed': {'viewed_time': 1639032374259, 'viewer_id': 5170935437524992},\n",
       " 'star_value': 4,\n",
       " 'lead_score': 92,\n",
       " 'klout_score': '',\n",
       " 'tags': ['Lead', 'Likely Buyer'],\n",
       " 'tagsWithTime': [{'tag': 'Lead',\n",
       "   'createdTime': 1638944056429,\n",
       "   'availableCount': 0,\n",
       "   'entity_type': 'tag'},\n",
       "  {'tag': 'Likely Buyer',\n",
       "   'createdTime': 1638944056429,\n",
       "   'availableCount': 0,\n",
       "   'entity_type': 'tag'}],\n",
       " 'properties': [{'type': 'SYSTEM', 'name': 'first_name', 'value': 'Los '},\n",
       "  {'type': 'SYSTEM', 'name': 'last_name', 'value': 'Bruikheilmer'},\n",
       "  {'type': 'SYSTEM', 'name': 'company', 'value': 'steady.inc'},\n",
       "  {'type': 'SYSTEM', 'name': 'title', 'value': 'VP Sales'},\n",
       "  {'type': 'SYSTEM',\n",
       "   'name': 'email',\n",
       "   'subtype': 'work',\n",
       "   'value': 'akrambakram@yabba.com'},\n",
       "  {'type': 'SYSTEM',\n",
       "   'name': 'address',\n",
       "   'value': '{\"zip\":\"2000\",\"country\":\"AU\",\"address\":\"225 George Street\",\"city\":\"NSW\",\"countryname\":\"Australia\",\"state\":\"Sydney\"}'},\n",
       "  {'type': 'CUSTOM', 'name': 'My Custom Field', 'value': 'Custom value'}],\n",
       " 'campaignStatus': [],\n",
       " 'entity_type': 'contact_entity',\n",
       " 'source': 'api',\n",
       " 'contact_company_id': '5529400689360896',\n",
       " 'unsubscribeStatus': [],\n",
       " 'emailBounceStatus': [],\n",
       " 'formId': 0,\n",
       " 'browserId': [],\n",
       " 'lead_source_id': 0,\n",
       " 'lead_status_id': 0,\n",
       " 'is_lead_converted': False,\n",
       " 'lead_converted_time': 0,\n",
       " 'is_duplicate_existed': False,\n",
       " 'trashed_time': 0,\n",
       " 'restored_time': 0,\n",
       " 'is_duplicate_verification_failed': False,\n",
       " 'is_client_import': False,\n",
       " 'concurrent_save_allowed': True,\n",
       " 'owner': {'id': 5170935437524992,\n",
       "  'domain': 'poop123',\n",
       "  'email': 'maxwellau16.19@ichat.sp.edu.sg',\n",
       "  'phone': '',\n",
       "  'name': 'Maxwell Au',\n",
       "  'pic': 'https://d1gwclp1pmzk26.cloudfront.net/img/gravatar/48.png',\n",
       "  'schedule_id': 'Maxwell_Au',\n",
       "  'calendar_url': 'https://poop123.agilecrm.com/calendar/Maxwell_Au',\n",
       "  'calendarURL': 'https://poop123.agilecrm.com/calendar/Maxwell_Au'}}"
      ]
     },
     "execution_count": 69,
     "metadata": {},
     "output_type": "execute_result"
    }
   ],
   "source": [
    "emailcnfm"
   ]
  },
  {
   "cell_type": "code",
   "execution_count": 89,
   "id": "7fb317ae",
   "metadata": {},
   "outputs": [
    {
     "data": {
      "text/plain": [
       "[{'cursor': 'true:CswECsICCpIC9ykjrr______jIGemJaTmtKcjZLSnJOQipvej5CQj87NzP8AAP90baCgmYuMoKD_AAD_XZ6Pj5qRmJaRmv8AAP9zdG2WkZuah_8AAP9dnJCRi56ci4z_AAD_c3Rtm5CcoJab_wAA_13KzMjOz8rKzM7Oy8fJxsjJ_wAA_3N_yszIzs_KyszOzsvHycbIyf8AAP__AP7__oyBnpiWk5rSnI2S0pyTkIqb3o-QkI_Ozcz_AHRtoKCZi4ygoP8AXZ6Pj5qRmJaRmv8Ac3RtlpGbmof_AF2ckJGLnpyLjP8Ac3Rtm5CcoJab_wBdyszIzs_KyszOzsvHycbIyf8Ac3_KzMjOz8rKzM7Oy8fJxsjJ_wD__hABIQTdBJAdPBsZOQAAAABAUdzWSAFQAFoLCe3pMASlGAufEANg7vbTzAVoARINRG9jdW1lbnRJbmRleBrTAShBTkQgKElTICJjdXN0b21lcl9uYW1lIiAiYXBwZW5naW5lIikgKElTICJncm91cF9uYW1lIiAic35hZ2lsZS1jcm0tY2xvdWQiKSAoSVMgIm5hbWVzcGFjZSIgInBvb3AxMjMiKSAoSVMgImluZGV4X25hbWUiICJjb250YWN0cyIpIChBTkQgKFFUICJwb29wb29jb21wYW55IiAicnRleHRfc2VhcmNoX3Rva2VucyIpIChRVCAiJ0NPTVBBTlknIiAicnRleHRfdHlwZSIpKSk6GQoMKE4gb3JkZXJfaWQpEAEZAAAAAAAA8P9KBQgAQOgH',\n",
       "  'count': 1,\n",
       "  'id': 5371055311486976,\n",
       "  'type': 'COMPANY',\n",
       "  'created_time': 1638942175,\n",
       "  'updated_time': 0,\n",
       "  'last_contacted': 0,\n",
       "  'last_emailed': 0,\n",
       "  'last_campaign_emaild': 0,\n",
       "  'last_called': 0,\n",
       "  'viewed_time': 0,\n",
       "  'viewed': {'viewed_time': 0},\n",
       "  'star_value': 0,\n",
       "  'lead_score': 0,\n",
       "  'klout_score': '',\n",
       "  'tags': [],\n",
       "  'tagsWithTime': [],\n",
       "  'properties': [{'type': 'SYSTEM', 'name': 'name', 'value': 'poopoocompany'},\n",
       "   {'type': 'SYSTEM', 'name': 'name_lower', 'value': 'poopoocompany'}],\n",
       "  'campaignStatus': [],\n",
       "  'entity_type': 'company_entity',\n",
       "  'unsubscribeStatus': [],\n",
       "  'emailBounceStatus': [],\n",
       "  'formId': 0,\n",
       "  'browserId': [],\n",
       "  'lead_source_id': 0,\n",
       "  'lead_status_id': 0,\n",
       "  'is_lead_converted': False,\n",
       "  'lead_converted_time': 0,\n",
       "  'is_duplicate_existed': False,\n",
       "  'trashed_time': 0,\n",
       "  'restored_time': 0,\n",
       "  'is_duplicate_verification_failed': False,\n",
       "  'is_client_import': False,\n",
       "  'concurrent_save_allowed': True,\n",
       "  'owner': {'id': 5170935437524992,\n",
       "   'domain': 'poop123',\n",
       "   'email': 'maxwellau16.19@ichat.sp.edu.sg',\n",
       "   'phone': '',\n",
       "   'name': 'Maxwell Au',\n",
       "   'pic': 'https://d1gwclp1pmzk26.cloudfront.net/img/gravatar/48.png',\n",
       "   'schedule_id': 'Maxwell_Au',\n",
       "   'calendar_url': 'https://poop123.agilecrm.com/calendar/Maxwell_Au',\n",
       "   'calendarURL': 'https://poop123.agilecrm.com/calendar/Maxwell_Au'}}]"
      ]
     },
     "execution_count": 89,
     "metadata": {},
     "output_type": "execute_result"
    }
   ],
   "source": [
    "crmObj.searchCompanyIdFromName(\"poopoocompany\").json()"
   ]
  },
  {
   "cell_type": "code",
   "execution_count": 91,
   "id": "185ed1ad",
   "metadata": {},
   "outputs": [
    {
     "data": {
      "text/plain": [
       "<Response [200]>"
      ]
     },
     "execution_count": 91,
     "metadata": {},
     "output_type": "execute_result"
    }
   ],
   "source": [
    "crmObj.makeDeal(dealName = \"poopytime\", expectedValue = \"61231999\", probability = \"19\", milestone = \"meh\", contactID = [\"5371055311486976\", \"6517302391013376\"])"
   ]
  },
  {
   "cell_type": "code",
   "execution_count": 72,
   "id": "b9f02b68",
   "metadata": {},
   "outputs": [],
   "source": [
    "resp = crmObj.createContact(firstName = \"ahmad\", lastName = \"bin laden\",\n",
    "                            company = \"alKaida\", title = \"Man Of Respekk\",\n",
    "                            email = \"notobama@alkaida.com\", address = \"israel\",\n",
    "                            customField = \"weapon name\", customContent = 'ak47')"
   ]
  },
  {
   "cell_type": "code",
   "execution_count": 75,
   "id": "22b74085",
   "metadata": {},
   "outputs": [],
   "source": [
    "resp = crmObj.getIdFromEmail(\"notobama@alkaida.com\")"
   ]
  },
  {
   "cell_type": "code",
   "execution_count": 92,
   "id": "8c576326",
   "metadata": {},
   "outputs": [],
   "source": [
    "resp = crmObj.makeNote(subject = \"when the money coming?\", description = \"ask you again\", contactID = [\"5371055311486976\"])"
   ]
  },
  {
   "cell_type": "code",
   "execution_count": 93,
   "id": "06b37424",
   "metadata": {},
   "outputs": [
    {
     "data": {
      "text/plain": [
       "{'id': 4555514777763840,\n",
       " 'created_time': 1639033216,\n",
       " 'subject': 'when the money coming?',\n",
       " 'description': 'ask you again',\n",
       " 'contact_ids': ['5371055311486976'],\n",
       " 'deal_ids': [],\n",
       " 'owner_id': '5170935437524992',\n",
       " 'entity_type': 'note',\n",
       " 'domainOwner': {'id': 5170935437524992,\n",
       "  'domain': 'poop123',\n",
       "  'email': 'maxwellau16.19@ichat.sp.edu.sg',\n",
       "  'phone': '',\n",
       "  'name': 'Maxwell Au',\n",
       "  'pic': 'https://d1gwclp1pmzk26.cloudfront.net/img/gravatar/48.png',\n",
       "  'schedule_id': 'Maxwell_Au',\n",
       "  'calendar_url': 'https://poop123.agilecrm.com/calendar/Maxwell_Au',\n",
       "  'calendarURL': 'https://poop123.agilecrm.com/calendar/Maxwell_Au'},\n",
       " 'contacts': [{'id': 5371055311486976,\n",
       "   'type': 'COMPANY',\n",
       "   'properties': [{'type': 'SYSTEM',\n",
       "     'name': 'name',\n",
       "     'value': 'poopoocompany'}]}]}"
      ]
     },
     "execution_count": 93,
     "metadata": {},
     "output_type": "execute_result"
    }
   ],
   "source": [
    "resp.json()"
   ]
  },
  {
   "cell_type": "code",
   "execution_count": null,
   "id": "b63cab44",
   "metadata": {},
   "outputs": [],
   "source": []
  }
 ],
 "metadata": {
  "kernelspec": {
   "display_name": "Python 3 (ipykernel)",
   "language": "python",
   "name": "python3"
  },
  "language_info": {
   "codemirror_mode": {
    "name": "ipython",
    "version": 3
   },
   "file_extension": ".py",
   "mimetype": "text/x-python",
   "name": "python",
   "nbconvert_exporter": "python",
   "pygments_lexer": "ipython3",
   "version": "3.8.11"
  }
 },
 "nbformat": 4,
 "nbformat_minor": 5
}
